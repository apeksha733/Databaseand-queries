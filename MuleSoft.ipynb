{
 "cells": [
  {
   "cell_type": "code",
   "execution_count": 1,
   "metadata": {},
   "outputs": [
    {
     "name": "stdout",
     "output_type": "stream",
     "text": [
      "<mysql.connector.connection_cext.CMySQLConnection object at 0x00000206B94471C0>\n"
     ]
    }
   ],
   "source": [
    "import mysql.connector\n",
    "from mysql.connector import Error\n",
    "import pandas as pd\n",
    "\n",
    "import os\n",
    "import platform\n",
    "\n",
    "mydb=mysql.connector.connect(host=\"localhost\",user=\"root\",passwd=\"Apeksha\")\n",
    "\n",
    "print(mydb)"
   ]
  },
  {
   "cell_type": "code",
   "execution_count": 2,
   "metadata": {},
   "outputs": [],
   "source": [
    "mycursor = mydb.cursor()\n",
    "\n",
    "mycursor.execute(\"CREATE DATABASE Movies\")"
   ]
  },
  {
   "cell_type": "code",
   "execution_count": 3,
   "metadata": {},
   "outputs": [
    {
     "name": "stdout",
     "output_type": "stream",
     "text": [
      "('information_schema',)\n",
      "('movies',)\n",
      "('mysql',)\n",
      "('performance_schema',)\n",
      "('sakila',)\n",
      "('sys',)\n",
      "('world',)\n"
     ]
    }
   ],
   "source": [
    "mycursor = mydb.cursor()\n",
    "\n",
    "mycursor.execute(\"SHOW DATABASES\")\n",
    "\n",
    "for x in mycursor:\n",
    "  print(x)"
   ]
  },
  {
   "cell_type": "code",
   "execution_count": 5,
   "metadata": {},
   "outputs": [],
   "source": [
    "mydb=mysql.connector.connect(host=\"localhost\",user=\"root\",passwd=\"Apeksha\",database=\"movies\")"
   ]
  },
  {
   "cell_type": "code",
   "execution_count": 6,
   "metadata": {},
   "outputs": [
    {
     "name": "stdout",
     "output_type": "stream",
     "text": [
      "('movies',)\n"
     ]
    }
   ],
   "source": [
    "mycursor = mydb.cursor()\n",
    "\n",
    "mycursor.execute(\"CREATE TABLE movies (name_of_movie VARCHAR(40),name_of_actor  VARCHAR(40),name_of_actress  VARCHAR(40),name_of_director VARCHAR(40),year_of_release VARCHAR(40))\")\n",
    "mycursor = mydb.cursor()\n",
    "\n",
    "mycursor.execute(\"SHOW TABLES\")\n",
    "\n",
    "for x in mycursor:\n",
    "  print(x)"
   ]
  },
  {
   "cell_type": "code",
   "execution_count": 7,
   "metadata": {},
   "outputs": [
    {
     "name": "stdout",
     "output_type": "stream",
     "text": [
      "9 was inserted.\n"
     ]
    }
   ],
   "source": [
    "sql = \"INSERT INTO movies (name_of_movie,name_of_actor,name_of_actress,name_of_director,year_of_release) VALUES (%s, %s, %s, %s, %s)\"\n",
    "val = [\n",
    "  ('LaLaLand', 'Ryan Gosling','Emma Stone','Damien Chazelle','2016'),\n",
    "  ('CrazyStupidLove', 'Ryan Gosling','Emma Stone','Glenn Ficarra','2011'),\n",
    "  ('EternalSunshineofSpotlessMind', 'Jim Carry','Kate Winslet','Michel Gondry','2004'),\n",
    "  ('TheShawshankRedemption','Morgan Freeman','','Frank Darabont','1994'),\n",
    "  ('Mr.&Mrs.Smith','Brad Pitt','Angelina Jolie',' Doug Liman','2005'),\n",
    "  ('SilverLiningsPlaybook','Bradley Cooper','Jennifer Lawrence','David O. Russell','2012'),\n",
    "  ('AStarIsBorn','Bradley Cooper','Lady Gaga','Bradley Cooper','2018'),\n",
    "  ('Intesteller','Matthew McConaughey', 'Anne Hathaway','Christopher Nolan','2014'),\n",
    "  ('Tenet','Robert Pattinson', 'Elizabeth Debicki','Christopher Nolan','2020')\n",
    "    ]\n",
    "\n",
    "mycursor.executemany(sql, val)\n",
    "\n",
    "mydb.commit()\n",
    "\n",
    "print(mycursor.rowcount, \"was inserted.\")"
   ]
  },
  {
   "cell_type": "code",
   "execution_count": 8,
   "metadata": {},
   "outputs": [
    {
     "name": "stdout",
     "output_type": "stream",
     "text": [
      "('LaLaLand',)\n",
      "('CrazyStupidLove',)\n",
      "('EternalSunshineofSpotlessMind',)\n",
      "('TheShawshankRedemption',)\n",
      "('Mr.&Mrs.Smith',)\n",
      "('SilverLiningsPlaybook',)\n",
      "('AStarIsBorn',)\n",
      "('Intesteller',)\n",
      "('Tenet',)\n"
     ]
    }
   ],
   "source": [
    "mycursor = mydb.cursor()\n",
    "\n",
    "mycursor.execute(\"SELECT name_of_movie FROM movies\")\n",
    "\n",
    "myresult = mycursor.fetchall()\n",
    "\n",
    "for x in myresult:\n",
    "  print(x)"
   ]
  },
  {
   "cell_type": "code",
   "execution_count": 9,
   "metadata": {},
   "outputs": [
    {
     "name": "stdout",
     "output_type": "stream",
     "text": [
      "('Ryan Gosling',)\n",
      "('Ryan Gosling',)\n",
      "('Jim Carry',)\n",
      "('Morgan Freeman',)\n",
      "('Brad Pitt',)\n",
      "('Bradley Cooper',)\n",
      "('Bradley Cooper',)\n",
      "('Matthew McConaughey',)\n",
      "('Robert Pattinson',)\n"
     ]
    }
   ],
   "source": [
    "mycursor = mydb.cursor()\n",
    "\n",
    "mycursor.execute(\"SELECT name_of_actor FROM movies\")\n",
    "\n",
    "myresult = mycursor.fetchall()\n",
    "\n",
    "for x in myresult:\n",
    "  print(x)"
   ]
  },
  {
   "cell_type": "code",
   "execution_count": 10,
   "metadata": {},
   "outputs": [
    {
     "name": "stdout",
     "output_type": "stream",
     "text": [
      "('Emma Stone',)\n",
      "('Emma Stone',)\n",
      "('Kate Winslet',)\n",
      "('',)\n",
      "('Angelina Jolie',)\n",
      "('Jennifer Lawrence',)\n",
      "('Lady Gaga',)\n",
      "('Anne Hathaway',)\n",
      "('Elizabeth Debicki',)\n"
     ]
    }
   ],
   "source": [
    "mycursor = mydb.cursor()\n",
    "\n",
    "mycursor.execute(\"SELECT name_of_actress FROM movies\")\n",
    "\n",
    "myresult = mycursor.fetchall()\n",
    "\n",
    "for x in myresult:\n",
    "  print(x)"
   ]
  },
  {
   "cell_type": "code",
   "execution_count": 11,
   "metadata": {},
   "outputs": [
    {
     "name": "stdout",
     "output_type": "stream",
     "text": [
      "('Damien Chazelle',)\n",
      "('Glenn Ficarra',)\n",
      "('Michel Gondry',)\n",
      "('Frank Darabont',)\n",
      "(' Doug Liman',)\n",
      "('David O. Russell',)\n",
      "('Bradley Cooper',)\n",
      "('Christopher Nolan',)\n",
      "('Christopher Nolan',)\n"
     ]
    }
   ],
   "source": [
    "mycursor = mydb.cursor()\n",
    "\n",
    "mycursor.execute(\"SELECT name_of_director FROM movies\")\n",
    "\n",
    "myresult = mycursor.fetchall()\n",
    "\n",
    "for x in myresult:\n",
    "  print(x)"
   ]
  },
  {
   "cell_type": "code",
   "execution_count": 12,
   "metadata": {},
   "outputs": [
    {
     "name": "stdout",
     "output_type": "stream",
     "text": [
      "('2016',)\n",
      "('2011',)\n",
      "('2004',)\n",
      "('1994',)\n",
      "('2005',)\n",
      "('2012',)\n",
      "('2018',)\n",
      "('2014',)\n",
      "('2020',)\n"
     ]
    }
   ],
   "source": [
    "mycursor = mydb.cursor()\n",
    "\n",
    "mycursor.execute(\"SELECT year_of_release FROM movies\")\n",
    "\n",
    "myresult = mycursor.fetchall()\n",
    "\n",
    "for x in myresult:\n",
    "  print(x)"
   ]
  },
  {
   "cell_type": "code",
   "execution_count": 13,
   "metadata": {},
   "outputs": [
    {
     "name": "stdout",
     "output_type": "stream",
     "text": [
      "('SilverLiningsPlaybook', 'Bradley Cooper', 'Jennifer Lawrence', 'David O. Russell', '2012')\n",
      "('AStarIsBorn', 'Bradley Cooper', 'Lady Gaga', 'Bradley Cooper', '2018')\n"
     ]
    }
   ],
   "source": [
    "mycursor = mydb.cursor()\n",
    "\n",
    "sql = \"SELECT * FROM movies WHERE name_of_actor ='Bradley Cooper'\"\n",
    "\n",
    "mycursor.execute(sql)\n",
    "\n",
    "myresult = mycursor.fetchall()\n",
    "\n",
    "for x in myresult:\n",
    "  print(x)"
   ]
  },
  {
   "cell_type": "code",
   "execution_count": 14,
   "metadata": {},
   "outputs": [
    {
     "name": "stdout",
     "output_type": "stream",
     "text": [
      "('Intesteller', 'Matthew McConaughey', 'Anne Hathaway', 'Christopher Nolan', '2014')\n"
     ]
    }
   ],
   "source": [
    "mycursor = mydb.cursor()\n",
    "\n",
    "sql = \"SELECT * FROM movies WHERE name_of_actress ='Anne Hathaway'\"\n",
    "\n",
    "mycursor.execute(sql)\n",
    "\n",
    "myresult = mycursor.fetchall()\n",
    "\n",
    "for x in myresult:\n",
    "  print(x)"
   ]
  },
  {
   "cell_type": "code",
   "execution_count": 15,
   "metadata": {},
   "outputs": [
    {
     "name": "stdout",
     "output_type": "stream",
     "text": [
      "('EternalSunshineofSpotlessMind', 'Jim Carry', 'Kate Winslet', 'Michel Gondry', '2004')\n"
     ]
    }
   ],
   "source": [
    "mycursor = mydb.cursor()\n",
    "\n",
    "sql = \"SELECT * FROM movies WHERE name_of_director ='Michel Gondry'\"\n",
    "\n",
    "mycursor.execute(sql)\n",
    "\n",
    "myresult = mycursor.fetchall()\n",
    "\n",
    "for x in myresult:\n",
    "  print(x)"
   ]
  },
  {
   "cell_type": "code",
   "execution_count": 16,
   "metadata": {},
   "outputs": [
    {
     "name": "stdout",
     "output_type": "stream",
     "text": [
      "('Tenet', 'Robert Pattinson', 'Elizabeth Debicki', 'Christopher Nolan', '2020')\n"
     ]
    }
   ],
   "source": [
    "mycursor = mydb.cursor()\n",
    "\n",
    "sql = \"SELECT * FROM movies WHERE year_of_release ='2020'\"\n",
    "\n",
    "mycursor.execute(sql)\n",
    "\n",
    "myresult = mycursor.fetchall()\n",
    "\n",
    "for x in myresult:\n",
    "  print(x)"
   ]
  },
  {
   "cell_type": "code",
   "execution_count": null,
   "metadata": {},
   "outputs": [],
   "source": []
  }
 ],
 "metadata": {
  "kernelspec": {
   "display_name": "Python 3",
   "language": "python",
   "name": "python3"
  },
  "language_info": {
   "codemirror_mode": {
    "name": "ipython",
    "version": 3
   },
   "file_extension": ".py",
   "mimetype": "text/x-python",
   "name": "python",
   "nbconvert_exporter": "python",
   "pygments_lexer": "ipython3",
   "version": "3.8.3"
  }
 },
 "nbformat": 4,
 "nbformat_minor": 4
}
